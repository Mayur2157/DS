{
 "cells": [
  {
   "cell_type": "code",
   "execution_count": 1,
   "id": "7cd0d52b",
   "metadata": {},
   "outputs": [
    {
     "data": {
      "image/png": "[encoded data removed]",
      "text/plain": [
       "<Figure size 432x288 with 1 Axes>"
      ]
     },
     "metadata": {
      "needs_background": "light"
     },
     "output_type": "display_data"
    }
   ],
   "source": [
    "import matplotlib.pyplot as plt\n",
    "import seaborn as sns\n",
    "import pandas as pd\n",
    "\n",
    "# Load the 'titanic' dataset\n",
    "titanic_df = sns.load_dataset('titanic')\n",
    "\n",
    "# Filter out the necessary columns\n",
    "data = titanic_df[['sex', 'age', 'survived']]\n",
    "\n",
    "# Remove rows with missing age values\n",
    "data = data.dropna(subset=['age'])\n",
    "\n",
    "# Create a box plot using seaborn\n",
    "sns.boxplot(x='sex', y='age', hue='survived', data=data)\n",
    "\n",
    "# Set the plot title and labels\n",
    "plt.title('Distribution of Age with respect to Gender and Survival')\n",
    "plt.xlabel('Gender')\n",
    "plt.ylabel('Age')\n",
    "\n",
    "# Show the plot\n",
    "plt.show()"
   ]
  },
  {
   "cell_type": "code",
   "execution_count": null,
   "id": "f2a46922",
   "metadata": {},
   "outputs": [],
   "source": [
    "From the box plot showing the distribution of age with respect to each gender and the information about survival, we can make several observations:\n",
    "    \n",
    "\n",
    "1) Median Age: The median age for both genders appears to be similar, with the boxes for males and females overlapping. It suggests that, on average, the age distribution is relatively similar between males and females.\n",
    "\n",
    "2) Age Range: The box plots indicate that the age range for males is slightly wider than that of females. The whiskers of the box plot for males extend further, indicating a broader range of ages among males.\n",
    "\n",
    "3) Outliers: There are some outliers present in both the male and female distributions, represented by individual data points beyond the whiskers of the box plots. These outliers suggest the presence of individuals with significantly higher ages compared to the rest of the group.\n",
    "\n",
    "4) Survival Differences: By considering the hue of the box plot, we can observe the differences in survival outcomes for each gender. Within each gender group, the box plot is divided into two colors: one representing individuals who survived and the other representing those who did not survive. We can see that the distribution of age for survivors and non-survivors is relatively similar for both genders.\n",
    "\n",
    "Overall, from this box plot, we can infer that age alone does not seem to be a significant factor in determining survival on the Titanic. The distributions of age for both genders are relatively similar, and there is no clear distinction between survivors and non-survivors based on age within each gender group. Other factors such as cabin class, location on the ship, and potentially gender itself may have played a more significant role in determining survival."
   ]
  }
 ],
 "metadata": {
  "kernelspec": {
   "display_name": "Python 3 (ipykernel)",
   "language": "python",
   "name": "python3"
  },
  "language_info": {
   "codemirror_mode": {
    "name": "ipython",
    "version": 3
   },
   "file_extension": ".py",
   "mimetype": "text/x-python",
   "name": "python",
   "nbconvert_exporter": "python",
   "pygments_lexer": "ipython3",
   "version": "3.10.4"
  }
 },
 "nbformat": 4,
 "nbformat_minor": 5
}
